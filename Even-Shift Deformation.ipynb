{
 "cells": [
  {
   "cell_type": "code",
   "execution_count": 1,
   "metadata": {},
   "outputs": [],
   "source": [
    "import matplotlib.pyplot as plt\n",
    "import numpy as np\n",
    "import cv2\n",
    "\n",
    "%matplotlib inline"
   ]
  },
  {
   "cell_type": "markdown",
   "metadata": {},
   "source": [
    "### ABA Variant"
   ]
  },
  {
   "cell_type": "markdown",
   "metadata": {},
   "source": [
    "### BAB Variant"
   ]
  },
  {
   "cell_type": "code",
   "execution_count": 178,
   "metadata": {
    "scrolled": true
   },
   "outputs": [
    {
     "data": {
      "image/png": "[encoded data removed]",
      "text/plain": [
       "<Figure size 432x288 with 1 Axes>"
      ]
     },
     "metadata": {
      "needs_background": "light"
     },
     "output_type": "display_data"
    }
   ],
   "source": [
    "boundary_dims = (21,17)\n",
    "\n",
    "stitches = [\n",
    "    ((0,0),(1,1)),\n",
    "    ((0, boundary_dims[1]-1),(1,boundary_dims[1]-2)),\n",
    "    ((boundary_dims[0]-1,0),(boundary_dims[0]-2,1)),\n",
    "    ((boundary_dims[0]-1,boundary_dims[1]-1),(boundary_dims[0]-2,boundary_dims[1]-2))\n",
    "]\n",
    "\n",
    "# S1 & S3\n",
    "for i in range(2, boundary_dims[1]-2):\n",
    "    stitches.append(((0,i),(1,i)))\n",
    "    stitches.append(((boundary_dims[0]-1,i),(boundary_dims[0]-2,i)))\n",
    "\n",
    "# S2 & S4\n",
    "for i in range(2, boundary_dims[0]-2):\n",
    "    stitches.append(((i,0),(i,1)))\n",
    "    stitches.append(((i,boundary_dims[1]-1),(i,boundary_dims[1]-2)))\n",
    "\n",
    "boundary = np.zeros(boundary_dims, dtype='uint8')\n",
    "\n",
    "for st in stitches:\n",
    "    boundary[st[0]] = 1\n",
    "    boundary[st[1]] = 1\n",
    "\n",
    "plt.imshow(boundary,cmap='gray')\n",
    "plt.show()"
   ]
  },
  {
   "cell_type": "code",
   "execution_count": 8,
   "metadata": {},
   "outputs": [
    {
     "name": "stdout",
     "output_type": "stream",
     "text": [
      "21 17\n",
      "21 40\n",
      "17 40\n"
     ]
    }
   ],
   "source": [
    "boundary_dims = (21,17,40)\n",
    "\n",
    "import itertools\n",
    "\n",
    "# print(list(itertools.combinations(['d1', 'd2', 'd3'], 2)))\n",
    "\n",
    "def create_stitch_boundary(boundary_dimensions):\n",
    "    diagonal_stitches = []\n",
    "    \n",
    "    # Construct diagonal stitches parallel to the dimensional-axes\n",
    "    for d1, d2 in itertools.combinations(boundary_dimensions, 2):\n",
    "        \n",
    "\n",
    "create_stitch_boundary(boundary_dims)\n",
    "        \n",
    "# stitches = [\n",
    "#     ((0,0),(1,1)),\n",
    "#     ((0, boundary_dims[1]-1),(1,boundary_dims[1]-2)),\n",
    "#     ((boundary_dims[0]-1,0),(boundary_dims[0]-2,1)),\n",
    "#     ((boundary_dims[0]-1,boundary_dims[1]-1),(boundary_dims[0]-2,boundary_dims[1]-2))\n",
    "# ]\n",
    "\n",
    "# # S1 & S3\n",
    "# for i in range(2, boundary_dims[1]-2):\n",
    "#     stitches.append(((0,i),(1,i)))\n",
    "#     stitches.append(((boundary_dims[0]-1,i),(boundary_dims[0]-2,i)))\n",
    "\n",
    "# # S2 & S4\n",
    "# for i in range(2, boundary_dims[0]-2):\n",
    "#     stitches.append(((i,0),(i,1)))\n",
    "#     stitches.append(((i,boundary_dims[1]-1),(i,boundary_dims[1]-2)))\n",
    "\n",
    "# boundary = np.zeros(boundary_dims, dtype='uint8')\n",
    "\n",
    "# for st in stitches:\n",
    "#     boundary[st[0]] = 1\n",
    "#     boundary[st[1]] = 1\n",
    "\n",
    "# plt.imshow(boundary,cmap='gray')\n",
    "# plt.show()"
   ]
  },
  {
   "cell_type": "code",
   "execution_count": 25,
   "metadata": {},
   "outputs": [
    {
     "name": "stdout",
     "output_type": "stream",
     "text": [
      "Boundary Dims ['0', 'd1', 'd2', 'd3'] - Card 4\n",
      "\n",
      "[('0', '0'), ('0', 'd1'), ('0', 'd2'), ('0', 'd3'), ('d1', '0'), ('d1', 'd1'), ('d1', 'd2'), ('d1', 'd3'), ('d2', '0'), ('d2', 'd1'), ('d2', 'd2'), ('d2', 'd3'), ('d3', '0'), ('d3', 'd1'), ('d3', 'd2'), ('d3', 'd3')]\n"
     ]
    }
   ],
   "source": [
    "arbitrary_boundary_dims = ['0','d1', 'd2', 'd3']\n",
    "\n",
    "print(f'Boundary Dims {arbitrary_boundary_dims} - Card {len(arbitrary_boundary_dims)}\\n')\n",
    "\n",
    "permutations = list(itertools.product(arbitrary_boundary_dims, arbitrary_boundary_dims))\n",
    "\n",
    "print(permutations)"
   ]
  }
 ],
 "metadata": {
  "kernelspec": {
   "display_name": "Python 3",
   "language": "python",
   "name": "python3"
  },
  "language_info": {
   "codemirror_mode": {
    "name": "ipython",
    "version": 3
   },
   "file_extension": ".py",
   "mimetype": "text/x-python",
   "name": "python",
   "nbconvert_exporter": "python",
   "pygments_lexer": "ipython3",
   "version": "3.6.9"
  }
 },
 "nbformat": 4,
 "nbformat_minor": 4
}
